{
 "cells": [
  {
   "cell_type": "code",
   "execution_count": 27,
   "metadata": {},
   "outputs": [
    {
     "name": "stdout",
     "output_type": "stream",
     "text": [
      "  ground_truth transcribus_result     gpt-4o gpt-4o_with_transkribus\n",
      "0    distincta          distincta  distincta               distincta\n",
      "1      maculis            maculis    maculis                 maculis\n",
      "2            ,                  .          .                       ,\n",
      "3      virtute               unum       unum                 virtute\n",
      "4           et          crudelior  crudelior                      et\n",
      "<class 'pandas.core.frame.DataFrame'>\n",
      "RangeIndex: 255 entries, 0 to 254\n",
      "Data columns (total 4 columns):\n",
      " #   Column                   Non-Null Count  Dtype \n",
      "---  ------                   --------------  ----- \n",
      " 0   ground_truth             255 non-null    object\n",
      " 1   transcribus_result       255 non-null    object\n",
      " 2   gpt-4o                   255 non-null    object\n",
      " 3   gpt-4o_with_transkribus  255 non-null    object\n",
      "dtypes: object(4)\n",
      "memory usage: 8.1+ KB\n",
      "None\n"
     ]
    }
   ],
   "source": [
    "import pandas as pd\n",
    "import numpy as np\n",
    "from Levenshtein import distance as levenshtein_distance\n",
    "from difflib import SequenceMatcher\n",
    "\n",
    "df = pd.read_csv('transcription_comparison.csv')\n",
    "\n",
    "print(df.head())\n",
    "print(df.info())\n",
    "\n",
    "def levenshtein_similarity(a, b):\n",
    "    max_len = max(len(a), len(b))\n",
    "    if max_len == 0:\n",
    "        return 1.0  # Both strings are empty, consider them identical\n",
    "    return 1 - levenshtein_distance(a, b) / max_len\n",
    "\n",
    "def sequence_matching_ratio(a, b):\n",
    "    return SequenceMatcher(None, a, b).ratio()\n",
    "\n",
    "similarity_data = []\n",
    "\n",
    "for column in df.columns[1:]:  # Skip the ground_truth column\n",
    "    levenshtein_similarities = df.apply(lambda row: levenshtein_similarity(row['ground_truth'], row[column]), axis=1)\n",
    "    sequence_similarities = df.apply(lambda row: sequence_matching_ratio(row['ground_truth'], row[column]), axis=1)\n",
    "    \n",
    "    avg_levenshtein = levenshtein_similarities.mean()\n",
    "    avg_sequence = sequence_similarities.mean()\n",
    "    \n",
    "    similarity_data.append({\n",
    "        'Method': column,\n",
    "        'Avg_Levenshtein_Similarity': avg_levenshtein,\n",
    "        'Avg_Sequence_Matching': avg_sequence\n",
    "    })\n",
    "\n",
    "similarities_df = pd.DataFrame(similarity_data)\n"
   ]
  },
  {
   "cell_type": "code",
   "execution_count": 28,
   "metadata": {},
   "outputs": [
    {
     "name": "stdout",
     "output_type": "stream",
     "text": [
      "                    Method  Avg_Levenshtein_Similarity  Avg_Sequence_Matching\n",
      "0       transcribus_result                    0.317625               0.363472\n",
      "1                   gpt-4o                    0.317625               0.363472\n",
      "2  gpt-4o_with_transkribus                    0.694865               0.714168\n"
     ]
    }
   ],
   "source": [
    "print(similarities_df)"
   ]
  },
  {
   "cell_type": "code",
   "execution_count": 30,
   "metadata": {},
   "outputs": [],
   "source": [
    "similarities_df.to_csv('similarity_data.csv', index=False)"
   ]
  },
  {
   "cell_type": "code",
   "execution_count": null,
   "metadata": {},
   "outputs": [],
   "source": []
  }
 ],
 "metadata": {
  "kernelspec": {
   "display_name": "improving-ocr-with-genai-mEo_YG_2-py3.12",
   "language": "python",
   "name": "python3"
  },
  "language_info": {
   "codemirror_mode": {
    "name": "ipython",
    "version": 3
   },
   "file_extension": ".py",
   "mimetype": "text/x-python",
   "name": "python",
   "nbconvert_exporter": "python",
   "pygments_lexer": "ipython3",
   "version": "3.12.5"
  }
 },
 "nbformat": 4,
 "nbformat_minor": 2
}
